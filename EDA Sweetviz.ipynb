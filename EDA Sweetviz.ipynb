{
 "cells": [
  {
   "cell_type": "markdown",
   "id": "9e75809f-c864-41c8-a5eb-5d01301ec2b6",
   "metadata": {},
   "source": [
    "# Four Automated Tools for Exploratory Data Analysis\n",
    "- DataPrep\n",
    "- Pandas Profiling\n",
    "- SweetViz\n",
    "- AutoViz\n",
    "- dtale\n",
    "\n",
    "### Reference:\n",
    "   1. https://builtin.com/data-science/EDA-python\n",
    "   2. https://www.analyticsvidhya.com/blog/2021/04/top-python-libraries-to-automate-exploratory-data-analysis-in-2021/\n",
    "   \n",
    "### Reading Dataset"
   ]
  },
  {
   "cell_type": "code",
   "execution_count": 3,
   "id": "96d93d90-7eb1-47c7-a021-752877d62c86",
   "metadata": {},
   "outputs": [],
   "source": [
    "import pandas as pd\n",
    "df = pd.read_csv(\"Travel.csv\")"
   ]
  },
  {
   "cell_type": "markdown",
   "id": "00746ec4-fda8-4a3f-913d-11324e10bf31",
   "metadata": {},
   "source": [
    "# **3. Sweetviz**"
   ]
  },
  {
   "cell_type": "code",
   "execution_count": 2,
   "id": "943add56-e6cd-472a-bbbd-91733f2a6674",
   "metadata": {},
   "outputs": [
    {
     "data": {
      "application/vnd.jupyter.widget-view+json": {
       "model_id": "dc28e1615c684cfca57884802d18bd95",
       "version_major": 2,
       "version_minor": 0
      },
      "text/plain": [
       "                                             |          | [  0%]   00:00 -> (? left)"
      ]
     },
     "metadata": {},
     "output_type": "display_data"
    },
    {
     "name": "stdout",
     "output_type": "stream",
     "text": [
      "Report report.html was generated.\n"
     ]
    }
   ],
   "source": [
    "# pip install sweetviz\n",
    "import sweetviz as sv\n",
    "analyze_report = sv.analyze(df)\n",
    "analyze_report.show_html('report.html', open_browser=False)"
   ]
  },
  {
   "cell_type": "code",
   "execution_count": null,
   "id": "ca5bff82-7bb1-4171-a67d-8449f634f0a2",
   "metadata": {},
   "outputs": [],
   "source": []
  }
 ],
 "metadata": {
  "kernelspec": {
   "display_name": "Python 3 (ipykernel)",
   "language": "python",
   "name": "python3"
  },
  "language_info": {
   "codemirror_mode": {
    "name": "ipython",
    "version": 3
   },
   "file_extension": ".py",
   "mimetype": "text/x-python",
   "name": "python",
   "nbconvert_exporter": "python",
   "pygments_lexer": "ipython3",
   "version": "3.9.12"
  }
 },
 "nbformat": 4,
 "nbformat_minor": 5
}

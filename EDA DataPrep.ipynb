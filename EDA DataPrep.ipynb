{
 "cells": [
  {
   "cell_type": "markdown",
   "id": "f9fd33bc-38db-41dc-93a0-1fc47d9603f8",
   "metadata": {},
   "source": [
    "# Four Automated Tools for Exploratory Data Analysis\n",
    "- DataPrep\n",
    "- Pandas Profiling\n",
    "- SweetViz\n",
    "- AutoViz\n",
    "- dtale\n",
    "\n",
    "### Reference:\n",
    "   1. https://builtin.com/data-science/EDA-python\n",
    "   2. https://www.analyticsvidhya.com/blog/2021/04/top-python-libraries-to-automate-exploratory-data-analysis-in-2021/\n",
    "   \n",
    "### Reading Dataset"
   ]
  },
  {
   "cell_type": "code",
   "execution_count": 32,
   "id": "bd2ca377-e5b1-4584-a423-9f3890c39073",
   "metadata": {},
   "outputs": [],
   "source": [
    "import pandas as pd\n",
    "df = pd.read_csv(\"Travel.csv\")"
   ]
  },
  {
   "cell_type": "markdown",
   "id": "4d2a8de5-03c5-4534-a5fb-ebb408e0fb50",
   "metadata": {},
   "source": [
    "# **1. Dataprep Tool**"
   ]
  },
  {
   "cell_type": "code",
   "execution_count": 1,
   "id": "7f9c5bff-99e2-46be-ab96-9b505471a9aa",
   "metadata": {},
   "outputs": [],
   "source": [
    "#pip install dataprep"
   ]
  },
  {
   "cell_type": "code",
   "execution_count": 33,
   "id": "01e54b5c-a9c5-4706-b79d-2d6e68dd27c8",
   "metadata": {},
   "outputs": [],
   "source": [
    "#from dataprep.eda import create_report\n",
    "#create_report(df)"
   ]
  },
  {
   "cell_type": "markdown",
   "id": "62d0efb6-309c-4cbf-932e-a2a01791cd1f",
   "metadata": {},
   "source": [
    "NOTE: Uncomment the above statements and run the analysis"
   ]
  },
  {
   "cell_type": "code",
   "execution_count": null,
   "id": "97fefe9a-b33e-420f-8d72-31bdcfcec6af",
   "metadata": {},
   "outputs": [],
   "source": []
  }
 ],
 "metadata": {
  "kernelspec": {
   "display_name": "Python 3 (ipykernel)",
   "language": "python",
   "name": "python3"
  },
  "language_info": {
   "codemirror_mode": {
    "name": "ipython",
    "version": 3
   },
   "file_extension": ".py",
   "mimetype": "text/x-python",
   "name": "python",
   "nbconvert_exporter": "python",
   "pygments_lexer": "ipython3",
   "version": "3.9.12"
  }
 },
 "nbformat": 4,
 "nbformat_minor": 5
}
